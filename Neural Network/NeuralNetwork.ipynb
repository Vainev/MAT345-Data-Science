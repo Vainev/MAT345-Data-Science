{
 "cells": [
  {
   "cell_type": "markdown",
   "id": "c14ebffb",
   "metadata": {},
   "source": [
    "# MAT 345 Neural Network"
   ]
  },
  {
   "cell_type": "markdown",
   "id": "edc896f7",
   "metadata": {},
   "source": [
    "#### Joanna Li, Julian Blackstone"
   ]
  },
  {
   "cell_type": "code",
   "execution_count": 1,
   "id": "bc7dcccc",
   "metadata": {
    "scrolled": true
   },
   "outputs": [],
   "source": [
    "from matplotlib import pyplot as plt\n",
    "from mnist import MNIST\n",
    "import pandas as pd\n",
    "import random as rnd\n",
    "import math\n",
    "import numpy as np\n",
    "import sys\n",
    "import os  "
   ]
  },
  {
   "cell_type": "code",
   "execution_count": 2,
   "id": "d5e5981e",
   "metadata": {},
   "outputs": [],
   "source": [
    "wrkdir = os.getcwd()\n",
    "mndata = MNIST(wrkdir + '/samples')"
   ]
  },
  {
   "cell_type": "code",
   "execution_count": 3,
   "id": "73df7339",
   "metadata": {},
   "outputs": [],
   "source": [
    "trainImages, trainLabels = mndata.load_training()\n",
    "testImages, testLabels = mndata.load_testing()\n",
    "trainLabels = np.array(trainLabels)\n",
    "testLabels = np.array(testLabels)"
   ]
  },
  {
   "cell_type": "markdown",
   "id": "be30a56e",
   "metadata": {},
   "source": [
    "### 1) Set up the output vectors and data"
   ]
  },
  {
   "cell_type": "code",
   "execution_count": 4,
   "id": "163bd735",
   "metadata": {},
   "outputs": [],
   "source": [
    "'''\n",
    "Brief :  Maps output values into vectors\n",
    "'''\n",
    "def setupOutput(test, train):\n",
    "    \n",
    "    # for testing data\n",
    "    digits = test.shape[0]\n",
    "    y = test.reshape(1, digits)\n",
    "    yTest = np.eye(10)[y.astype('int32')]\n",
    "    yTest = yTest.T.reshape(10, digits)\n",
    "    \n",
    "    # for training data\n",
    "    digits = train.shape[0]\n",
    "    y = train.reshape(1, digits)\n",
    "    yTrain = np.eye(10)[y.astype('int32')]\n",
    "    yTrain = yTrain.T.reshape(10, digits)\n",
    "\n",
    "    return yTrain, yTest"
   ]
  },
  {
   "cell_type": "code",
   "execution_count": 5,
   "id": "c9dd2240",
   "metadata": {},
   "outputs": [],
   "source": [
    "yTrain, yTest = setupOutput(testLabels, trainLabels)"
   ]
  },
  {
   "cell_type": "markdown",
   "id": "306eabe3",
   "metadata": {},
   "source": [
    "#### Taking a look at what the images look like"
   ]
  },
  {
   "cell_type": "code",
   "execution_count": 6,
   "id": "97d832dc",
   "metadata": {},
   "outputs": [
    {
     "data": {
      "text/plain": [
       "<matplotlib.image.AxesImage at 0x1f59c607880>"
      ]
     },
     "execution_count": 6,
     "metadata": {},
     "output_type": "execute_result"
    },
    {
     "data": {
      "image/png": "[encoded data removed]",
      "text/plain": [
       "<Figure size 432x288 with 1 Axes>"
      ]
     },
     "metadata": {
      "needs_background": "light"
     },
     "output_type": "display_data"
    }
   ],
   "source": [
    "xTrain = np.asarray(trainImages, dtype = 'float')\n",
    "xTest = np.asarray(testImages, dtype = 'float')\n",
    "\n",
    "im = np.reshape(xTrain[0], (28, 28))\n",
    "plt.imshow(im)"
   ]
  },
  {
   "cell_type": "code",
   "execution_count": 7,
   "id": "cba97b18",
   "metadata": {},
   "outputs": [],
   "source": [
    "# rescale data so working with smaller values\n",
    "xTrain /= 255.0\n",
    "xTest /= 255.0\n",
    "\n",
    "# add bias terms now, so dont have to later for the feed forward algo\n",
    "xTrain  = np.concatenate((np.ones(60000)[:, np.newaxis], xTrain), axis=1)\n",
    "xTrain = xTrain.T\n",
    "\n",
    "xTest = np.concatenate((np.ones(10000)[:, np.newaxis], xTest), axis=1)\n",
    "xTest = xTest.T"
   ]
  },
  {
   "cell_type": "markdown",
   "id": "826f0659",
   "metadata": {},
   "source": [
    "### 2) The algorithms (Feed forward, back propagation, sigmoid, etc.)"
   ]
  },
  {
   "cell_type": "code",
   "execution_count": 8,
   "id": "1d68c49f",
   "metadata": {},
   "outputs": [],
   "source": [
    "# initalizae weights based on s2 given\n",
    "def initilizeWeights(s2):\n",
    "    params = {\n",
    "        'w1': (-sys.float_info.epsilon) +  math.sqrt(sys.float_info.epsilon) * np.random.randn(s2, 785),\n",
    "        'w2': (-sys.float_info.epsilon) +  math.sqrt(sys.float_info.epsilon) * np.random.randn(10, s2 + 1)\n",
    "    }\n",
    "\n",
    "    return params"
   ]
  },
  {
   "cell_type": "code",
   "execution_count": 9,
   "id": "327d2354",
   "metadata": {},
   "outputs": [],
   "source": [
    "def sigmoid(z):\n",
    "    return np.exp(z) / (1 + np.exp(z))\n",
    "\n",
    "def sigDerivatve(z):\n",
    "    return sigmoid(z) * (1 - sigmoid(z))"
   ]
  },
  {
   "cell_type": "code",
   "execution_count": 10,
   "id": "b3500eb9",
   "metadata": {},
   "outputs": [],
   "source": [
    "'''\n",
    "Brief : Feed forward algorithm\n",
    "Params:\n",
    "    x = data\n",
    "    weights = weights\n",
    "    length = size of the data\n",
    "'''\n",
    "def feedForward(x, weights, length):\n",
    "    \n",
    "    # bias term already added before passing\n",
    "    a1 = x\n",
    "    z2 = np.matmul(weights['w1'], a1)\n",
    "    \n",
    "    a2 = sigmoid(z2)\n",
    "    # add bias term\n",
    "    a2 = a2.T\n",
    "    a2 = np.concatenate((np.ones(length)[:, np.newaxis], a2), axis=1)\n",
    "    a2 = a2.T\n",
    "    \n",
    "    z3 = np.matmul(weights['w2'], a2)\n",
    "    \n",
    "    # no bias term \n",
    "    a3 = sigmoid(z3)\n",
    "\n",
    "    cache = {\n",
    "        'a1': a1,\n",
    "        'a2': a2,\n",
    "        'a3' : a3,\n",
    "        'z2': z2,\n",
    "        'z3' : z3 \n",
    "    }\n",
    "    \n",
    "    return cache"
   ]
  },
  {
   "cell_type": "code",
   "execution_count": 11,
   "id": "de8796a4",
   "metadata": {},
   "outputs": [],
   "source": [
    "'''\n",
    "Brief: Back propagation\n",
    "Params:\n",
    "    cache = cache of activation units and signals caculated \n",
    "                from feed forward algo\n",
    "    expected = expected output\n",
    "    weights = weights\n",
    "    length = size of the data\n",
    "'''\n",
    "def backPropgation(cache, expected, weights, length):\n",
    "    \n",
    "    error3 = cache['a3'] - expected\n",
    "    \n",
    "    # gradient\n",
    "    dw2 = (1 / length) * np.matmul(error3, cache['a2'].T)\n",
    "    \n",
    "    de2 = np.matmul(weights['w2'].T, error3)\n",
    "    error2 = de2[1: , : ] * sigDerivatve(cache['z2'])\n",
    "    \n",
    "    #gradient\n",
    "    dw1 = (1 / length) * np.matmul(error2, cache['a1'].T)\n",
    "    \n",
    "    params = {\n",
    "        'error3': error3,\n",
    "        'error2': error2,\n",
    "        'gw1' : dw1,\n",
    "        'gw2' : dw2\n",
    "    }\n",
    "    \n",
    "    return params"
   ]
  },
  {
   "cell_type": "code",
   "execution_count": 12,
   "id": "6cf23f2d",
   "metadata": {},
   "outputs": [],
   "source": [
    "'''\n",
    "Brief: Calculates the accuracy\n",
    "'''\n",
    "def calcAcc(predicted, label):\n",
    "    total = label.shape[0]\n",
    "    correct = 0\n",
    "\n",
    "    for i in range(total):\n",
    "        if pred[i] == label[i]:\n",
    "            correct += 1\n",
    "\n",
    "    return correct/total"
   ]
  },
  {
   "cell_type": "markdown",
   "id": "3f95060f",
   "metadata": {},
   "source": [
    "### 3) Gradient Descent"
   ]
  },
  {
   "cell_type": "code",
   "execution_count": 13,
   "id": "9f94071f",
   "metadata": {},
   "outputs": [],
   "source": [
    "rnd.seed(56)"
   ]
  },
  {
   "cell_type": "code",
   "execution_count": 14,
   "id": "ceba0903",
   "metadata": {},
   "outputs": [],
   "source": [
    "'''\n",
    "Brief: Gradient Descent algorithm, uses feed forward and back propgation\n",
    "'''\n",
    "def gradDescent(steps, data, expectedResult, s2, learningRate):\n",
    "    weights = initilizeWeights(s2)\n",
    "    size = data.shape[1]\n",
    "    \n",
    "    for i in range(steps):        \n",
    "        # push all nodes at once instead of one by one (makes calculating gradients easier)\n",
    "        output = feedForward(data, weights, size)\n",
    "        deriv = backPropgation(output, expectedResult, weights, size)\n",
    "        \n",
    "        weights['w2'] = weights['w2']  - learningRate * deriv['gw2']\n",
    "        weights['w1'] = weights['w1']  - learningRate * deriv['gw1']\n",
    "    \n",
    "    return weights"
   ]
  },
  {
   "cell_type": "markdown",
   "id": "3f5f7cec",
   "metadata": {},
   "source": [
    "### 3) Testing network with testing set"
   ]
  },
  {
   "cell_type": "markdown",
   "id": "71283b23",
   "metadata": {},
   "source": [
    "#### Learning rate of 0.1"
   ]
  },
  {
   "cell_type": "code",
   "execution_count": 15,
   "id": "3bc5b1c1",
   "metadata": {},
   "outputs": [],
   "source": [
    "w = gradDescent(1000, xTrain, yTrain, 30, 0.1)"
   ]
  },
  {
   "cell_type": "code",
   "execution_count": 16,
   "id": "8ce09f59",
   "metadata": {},
   "outputs": [],
   "source": [
    "result = feedForward(xTest, w, 10000)"
   ]
  },
  {
   "cell_type": "code",
   "execution_count": 17,
   "id": "666fbe95",
   "metadata": {},
   "outputs": [
    {
     "name": "stdout",
     "output_type": "stream",
     "text": [
      "Learning Rate: 0.1, Accuracy:  0.1135\n"
     ]
    }
   ],
   "source": [
    "# choose the label with highest activation value\n",
    "pred = np.argmax(result['a3'], axis=0) \n",
    "accuracy = calcAcc(pred, testLabels)\n",
    "print('Learning Rate: 0.1, Accuracy: ', accuracy)"
   ]
  },
  {
   "cell_type": "markdown",
   "id": "9b8c109b",
   "metadata": {},
   "source": [
    "#### Learning rate of 0.15"
   ]
  },
  {
   "cell_type": "code",
   "execution_count": 18,
   "id": "a54606fc",
   "metadata": {},
   "outputs": [],
   "source": [
    "w = gradDescent(1000, xTrain, yTrain, 30, 0.15)"
   ]
  },
  {
   "cell_type": "code",
   "execution_count": 19,
   "id": "75e6acce",
   "metadata": {},
   "outputs": [],
   "source": [
    "result = feedForward(xTest, w, 10000)"
   ]
  },
  {
   "cell_type": "code",
   "execution_count": 20,
   "id": "39068996",
   "metadata": {},
   "outputs": [
    {
     "name": "stdout",
     "output_type": "stream",
     "text": [
      "Learning Rate: 0.15, Accuracy:  0.4188\n"
     ]
    }
   ],
   "source": [
    "pred = np.argmax(result['a3'], axis=0) \n",
    "accuracy = calcAcc(pred, testLabels)\n",
    "print('Learning Rate: 0.15, Accuracy: ', accuracy)"
   ]
  },
  {
   "cell_type": "markdown",
   "id": "bb96def3",
   "metadata": {},
   "source": [
    "#### Learning rate of 0.3"
   ]
  },
  {
   "cell_type": "code",
   "execution_count": 21,
   "id": "6d8fd2e1",
   "metadata": {},
   "outputs": [],
   "source": [
    "w = gradDescent(1000, xTrain, yTrain, 30, 0.3)"
   ]
  },
  {
   "cell_type": "code",
   "execution_count": 22,
   "id": "11d27d4d",
   "metadata": {},
   "outputs": [],
   "source": [
    "result = feedForward(xTest, w, 10000)"
   ]
  },
  {
   "cell_type": "code",
   "execution_count": 23,
   "id": "3ce453d8",
   "metadata": {},
   "outputs": [
    {
     "name": "stdout",
     "output_type": "stream",
     "text": [
      "Learning Rate: 0.3, Accuracy:  0.8922\n"
     ]
    }
   ],
   "source": [
    "pred = np.argmax(result['a3'], axis=0) \n",
    "accuracy = calcAcc(pred, testLabels)\n",
    "print('Learning Rate: 0.3, Accuracy: ', accuracy)"
   ]
  },
  {
   "cell_type": "markdown",
   "id": "8f83bbff",
   "metadata": {},
   "source": [
    "#### Final Weights"
   ]
  },
  {
   "cell_type": "code",
   "execution_count": 24,
   "id": "cbdbfe4a",
   "metadata": {},
   "outputs": [
    {
     "data": {
      "text/plain": [
       "array([[-1.95061656e-01,  4.60720262e-09, -8.63821419e-09, ...,\n",
       "        -2.03686956e-08,  1.84180640e-08,  1.15662999e-08],\n",
       "       [-1.12076528e-01,  5.69013255e-09,  2.25581777e-08, ...,\n",
       "        -1.17255244e-08, -5.22986379e-09, -2.31224339e-08],\n",
       "       [-1.20400195e-01, -4.27950405e-11, -2.01152986e-08, ...,\n",
       "        -1.35241039e-08,  1.44825940e-08, -4.12006402e-09],\n",
       "       ...,\n",
       "       [-4.71147282e-02, -1.53403998e-08, -3.58393951e-08, ...,\n",
       "        -7.70038850e-09,  1.22154735e-08,  4.45906078e-09],\n",
       "       [-4.44081176e-02, -1.21804362e-08,  1.78917402e-08, ...,\n",
       "         1.63953141e-08, -1.18696033e-08, -1.17237970e-08],\n",
       "       [-2.21758212e-01,  6.35335477e-09, -5.18295484e-09, ...,\n",
       "         8.55982997e-09, -8.97825565e-09, -3.20754447e-08]])"
      ]
     },
     "execution_count": 24,
     "metadata": {},
     "output_type": "execute_result"
    }
   ],
   "source": [
    "w['w1']"
   ]
  },
  {
   "cell_type": "code",
   "execution_count": 25,
   "id": "d9bd7ce5",
   "metadata": {},
   "outputs": [
    {
     "data": {
      "text/plain": [
       "array([[-5.90718392e-01, -1.48400945e+00,  8.17184662e-02,\n",
       "        -1.09049848e+00, -1.29492405e+00, -1.18988260e+00,\n",
       "        -8.91759431e-01, -1.48717004e+00,  1.93822707e-01,\n",
       "        -1.12509493e+00,  1.48374711e-01, -9.87762138e-01,\n",
       "        -9.68894812e-01,  7.17260597e-01, -9.67404250e-01,\n",
       "         5.01550420e-01,  8.49615104e-02, -7.73087430e-01,\n",
       "         7.55301279e-01,  1.70659631e-01,  5.42615731e-01,\n",
       "         2.51135110e-01,  3.97559693e-01, -1.61316206e+00,\n",
       "         4.15255425e-01, -8.31678763e-01, -1.04225512e+00,\n",
       "         7.33433891e-01,  4.92050184e-02, -1.04217621e+00,\n",
       "         4.06155712e-01],\n",
       "       [-6.91920290e-01,  5.63307839e-01, -7.67295062e-01,\n",
       "         1.10577026e+00,  1.79018218e-01,  1.78854636e-01,\n",
       "         6.91433410e-01,  3.75495440e-01,  7.16475913e-02,\n",
       "         1.67085488e-01, -1.46975595e+00, -4.94413034e-01,\n",
       "         9.14007629e-01, -9.81324737e-01,  4.16414791e-01,\n",
       "        -6.86509413e-01, -1.25283022e+00,  1.65406897e+00,\n",
       "        -7.17247028e-01, -9.18371351e-01, -1.01049337e+00,\n",
       "        -1.87219297e-01, -2.39399754e-01,  7.13549392e-01,\n",
       "        -1.05024036e+00, -1.65353534e-01,  1.49048745e-01,\n",
       "        -9.13419494e-01, -1.91292902e+00,  7.30530615e-01,\n",
       "        -7.16983680e-01],\n",
       "       [-8.98274567e-01,  5.78108192e-01, -1.20862954e+00,\n",
       "         1.17509728e+00, -4.31849538e-01,  2.37695203e-01,\n",
       "        -6.27638585e-01, -1.19462100e+00, -2.60734271e-01,\n",
       "         6.29797594e-01, -1.36343558e+00, -8.99461296e-01,\n",
       "        -8.62637408e-01,  9.35930427e-01, -5.34785916e-01,\n",
       "        -4.66390851e-01, -1.38211081e-01, -3.80836370e-01,\n",
       "         6.39543254e-01,  3.12012727e-01, -8.31554162e-01,\n",
       "         1.13415838e-01, -1.61628669e-01,  3.82821885e-01,\n",
       "        -3.49241310e-01, -1.21612497e+00, -1.04396597e+00,\n",
       "        -8.74559181e-01, -3.97913809e-02,  4.31163546e-01,\n",
       "         4.74201353e-01],\n",
       "       [-9.00217084e-01,  5.00067402e-01,  4.02719537e-01,\n",
       "         1.14239971e+00, -1.02853753e+00, -1.48411500e+00,\n",
       "         1.93909493e-01,  8.47465916e-01, -2.17051786e-01,\n",
       "        -4.05662040e-01,  2.39231452e-01, -9.38928155e-01,\n",
       "        -7.88256039e-01, -9.74787662e-01, -6.76387814e-01,\n",
       "         7.63471864e-01,  2.18406564e-02, -5.97811646e-01,\n",
       "        -3.89218774e-01, -3.44782913e-01, -8.37788009e-01,\n",
       "        -3.80672145e-02, -3.77217054e-01,  6.57154227e-01,\n",
       "         7.60086710e-02, -1.24159863e+00, -7.12241453e-01,\n",
       "        -1.27860771e+00, -1.28975375e-01,  1.10165710e+00,\n",
       "        -1.17430321e+00],\n",
       "       [-2.88652581e-02, -3.79477328e-01, -9.43089218e-01,\n",
       "        -4.59795074e-01,  3.58080558e-01,  5.72456412e-01,\n",
       "        -9.91081273e-01, -7.49256878e-01, -1.33506007e+00,\n",
       "         3.92923318e-02,  6.77857234e-03,  8.12993506e-01,\n",
       "        -1.31525601e+00,  3.68014762e-01,  7.22921288e-01,\n",
       "        -7.70052764e-01, -3.50162651e-01, -3.44090724e-01,\n",
       "        -1.12630251e+00, -7.48529989e-01, -5.55498051e-02,\n",
       "        -1.17073994e+00, -1.63022959e+00, -7.87819713e-01,\n",
       "         5.99028961e-01,  1.21550893e-01,  5.57029061e-01,\n",
       "         3.81564880e-01, -8.96735519e-02, -6.27383415e-01,\n",
       "        -2.36166414e-01],\n",
       "       [ 8.82524302e-02, -8.50007997e-01, -1.07426628e-01,\n",
       "        -1.01707889e+00,  3.30811411e-02, -8.88246405e-01,\n",
       "        -4.93362253e-01,  7.53806497e-01,  3.50623963e-01,\n",
       "        -9.82476129e-01, -2.96733910e-02, -9.30889223e-01,\n",
       "        -6.07184613e-01, -8.13482846e-01, -4.64890780e-01,\n",
       "         5.12933928e-01, -1.20908489e-01, -2.53378747e-01,\n",
       "        -8.80394924e-01, -8.69858761e-01,  8.66847385e-02,\n",
       "         2.72391698e-01,  2.32748710e-01, -2.24001088e-01,\n",
       "         4.30032395e-01,  6.26272393e-01, -8.15180282e-03,\n",
       "        -1.14169380e+00, -8.57586485e-02, -8.36545792e-01,\n",
       "        -6.23381303e-01],\n",
       "       [-4.86389426e-01,  2.03605420e-01, -1.48929387e+00,\n",
       "        -1.28777846e+00,  1.36770536e-02,  4.39870371e-01,\n",
       "        -7.68000294e-01, -1.07283152e+00, -2.58615789e-01,\n",
       "        -1.28209602e+00, -4.33109986e-01,  8.32778487e-01,\n",
       "        -9.99426449e-01,  6.08279371e-01, -7.57609716e-01,\n",
       "        -4.95853348e-01, -3.70522351e-01, -4.10378304e-01,\n",
       "         8.38028403e-01, -1.23912022e+00, -1.18600027e+00,\n",
       "        -1.36581742e+00,  9.80009622e-01,  6.44804871e-01,\n",
       "         6.12584417e-01,  1.59810516e-01,  4.34063008e-01,\n",
       "        -5.95568475e-01, -2.68346489e-01, -1.12068795e+00,\n",
       "        -6.25228763e-04],\n",
       "       [-4.27501136e-01, -8.86780089e-01,  1.58765343e-01,\n",
       "        -3.10003647e-01, -6.85149872e-01, -5.80532234e-01,\n",
       "         1.64199214e+00,  2.08439833e-01, -1.02376088e+00,\n",
       "         1.44273233e-02, -3.01885680e-01,  4.28557222e-01,\n",
       "         1.86093678e+00, -8.23890801e-01, -1.02998232e-01,\n",
       "        -3.50209377e-01, -7.40048862e-01, -3.51431406e-01,\n",
       "        -5.81959114e-01,  9.84122174e-02,  4.02951101e-01,\n",
       "        -1.53115019e-01, -1.27964293e+00, -1.06809724e+00,\n",
       "        -8.53085526e-01, -5.25212943e-01, -5.59128620e-01,\n",
       "         8.57003366e-01, -2.55330641e-01,  6.99237682e-01,\n",
       "        -8.08493188e-01],\n",
       "       [-9.39621798e-01,  5.05435508e-01,  2.65259742e-01,\n",
       "        -1.04211950e+00,  4.34105212e-01, -1.84144216e-01,\n",
       "        -8.24460741e-01,  6.88596912e-02,  4.65547165e-01,\n",
       "         5.17307560e-01,  2.00171990e-01, -1.48815319e+00,\n",
       "        -8.71559909e-01, -1.17143414e+00, -6.31646968e-01,\n",
       "        -1.40168567e+00, -2.83910859e-02, -8.19500750e-01,\n",
       "        -1.21514402e+00,  2.40173594e-01, -6.63481543e-01,\n",
       "         4.25453352e-01,  9.47663985e-02,  5.59406556e-01,\n",
       "        -1.64092140e+00,  5.04317464e-01, -7.52850387e-01,\n",
       "        -1.19566683e+00, -1.28358318e-02, -9.03092197e-01,\n",
       "         5.18178045e-01],\n",
       "       [-2.99771531e-01, -2.70986525e-01,  5.88443948e-01,\n",
       "        -5.68195963e-01,  3.54200696e-01,  4.08148999e-01,\n",
       "        -9.53505787e-01,  1.77526813e-01, -9.08299054e-01,\n",
       "         2.89724757e-01,  1.04467786e-01,  5.49832610e-01,\n",
       "         1.10113763e-01, -9.97594436e-01,  1.57011123e-01,\n",
       "        -6.38103093e-01, -1.56959426e-01, -4.78756286e-01,\n",
       "        -6.98973084e-01,  8.37777524e-02,  9.91839466e-02,\n",
       "        -1.02485336e+00, -1.18714426e+00, -7.63923832e-01,\n",
       "        -1.45435029e+00, -1.83218083e-02,  3.19942818e-01,\n",
       "        -9.77664900e-02, -4.13471492e-02, -8.88014666e-01,\n",
       "        -6.50613923e-01]])"
      ]
     },
     "execution_count": 25,
     "metadata": {},
     "output_type": "execute_result"
    }
   ],
   "source": [
    "w['w2']"
   ]
  },
  {
   "cell_type": "markdown",
   "id": "dede27f0",
   "metadata": {},
   "source": [
    "### Different sizes for hidden layer"
   ]
  },
  {
   "cell_type": "markdown",
   "id": "1225e70d",
   "metadata": {},
   "source": [
    "#### 100 Hidden units"
   ]
  },
  {
   "cell_type": "code",
   "execution_count": 26,
   "id": "c72562d2",
   "metadata": {},
   "outputs": [],
   "source": [
    "w = gradDescent(1000, xTrain, yTrain, 100, 0.3)"
   ]
  },
  {
   "cell_type": "code",
   "execution_count": 27,
   "id": "72eb8d46",
   "metadata": {},
   "outputs": [],
   "source": [
    "result = feedForward(xTest, w, 10000)"
   ]
  },
  {
   "cell_type": "code",
   "execution_count": 28,
   "id": "6f62879f",
   "metadata": {},
   "outputs": [
    {
     "name": "stdout",
     "output_type": "stream",
     "text": [
      "Hidden layer size: 100, Accuracy:  0.8987\n"
     ]
    }
   ],
   "source": [
    "pred = np.argmax(result['a3'], axis=0) \n",
    "accuracy = calcAcc(pred, testLabels)\n",
    "print('Hidden layer size: 100, Accuracy: ', accuracy)"
   ]
  },
  {
   "cell_type": "markdown",
   "id": "51966e83",
   "metadata": {},
   "source": [
    "#### 300 Hidden units"
   ]
  },
  {
   "cell_type": "code",
   "execution_count": 29,
   "id": "29fae97d",
   "metadata": {},
   "outputs": [],
   "source": [
    "w = gradDescent(1000, xTrain, yTrain, 300, 0.3)"
   ]
  },
  {
   "cell_type": "code",
   "execution_count": 30,
   "id": "e41fffdd",
   "metadata": {},
   "outputs": [],
   "source": [
    "result = feedForward(xTest, w, 10000)"
   ]
  },
  {
   "cell_type": "code",
   "execution_count": 31,
   "id": "383f264f",
   "metadata": {},
   "outputs": [
    {
     "name": "stdout",
     "output_type": "stream",
     "text": [
      "Hidden layer size: 300, Accuracy:  0.8951\n"
     ]
    }
   ],
   "source": [
    "pred = np.argmax(result['a3'], axis=0) \n",
    "accuracy = calcAcc(pred, testLabels)\n",
    "print('Hidden layer size: 300, Accuracy: ', accuracy)"
   ]
  },
  {
   "cell_type": "markdown",
   "id": "7377d15f",
   "metadata": {},
   "source": [
    "#### 20 hidden units"
   ]
  },
  {
   "cell_type": "code",
   "execution_count": 32,
   "id": "9182b484",
   "metadata": {},
   "outputs": [],
   "source": [
    "w = gradDescent(1000, xTrain, yTrain, 20, 0.3)"
   ]
  },
  {
   "cell_type": "code",
   "execution_count": 33,
   "id": "f66521f1",
   "metadata": {},
   "outputs": [],
   "source": [
    "result = feedForward(xTest, w, 10000)"
   ]
  },
  {
   "cell_type": "code",
   "execution_count": 34,
   "id": "89522369",
   "metadata": {},
   "outputs": [
    {
     "name": "stdout",
     "output_type": "stream",
     "text": [
      "Hidden layer size: 20, Accuracy:  0.8786\n"
     ]
    }
   ],
   "source": [
    "pred = np.argmax(result['a3'], axis=0) \n",
    "accuracy = calcAcc(pred, testLabels)\n",
    "print('Hidden layer size: 20, Accuracy: ', accuracy)"
   ]
  },
  {
   "cell_type": "code",
   "execution_count": null,
   "id": "c86ecea6",
   "metadata": {},
   "outputs": [],
   "source": []
  }
 ],
 "metadata": {
  "kernelspec": {
   "display_name": "Python 3 (ipykernel)",
   "language": "python",
   "name": "python3"
  },
  "language_info": {
   "codemirror_mode": {
    "name": "ipython",
    "version": 3
   },
   "file_extension": ".py",
   "mimetype": "text/x-python",
   "name": "python",
   "nbconvert_exporter": "python",
   "pygments_lexer": "ipython3",
   "version": "3.9.12"
  },
  "varInspector": {
   "cols": {
    "lenName": 16,
    "lenType": 16,
    "lenVar": 40
   },
   "kernels_config": {
    "python": {
     "delete_cmd_postfix": "",
     "delete_cmd_prefix": "del ",
     "library": "var_list.py",
     "varRefreshCmd": "print(var_dic_list())"
    },
    "r": {
     "delete_cmd_postfix": ") ",
     "delete_cmd_prefix": "rm(",
     "library": "var_list.r",
     "varRefreshCmd": "cat(var_dic_list()) "
    }
   },
   "types_to_exclude": [
    "module",
    "function",
    "builtin_function_or_method",
    "instance",
    "_Feature"
   ],
   "window_display": false
  },
  "vscode": {
   "interpreter": {
    "hash": "916dbcbb3f70747c44a77c7bcd40155683ae19c65e1c03b4aa3499c5328201f1"
   }
  }
 },
 "nbformat": 4,
 "nbformat_minor": 5
}
